{
 "cells": [
  {
   "cell_type": "markdown",
   "metadata": {},
   "source": [
    "1. Write a function called rectangle that takes two integers m and n as arguments and prints out an m × n box consisting of asterisks"
   ]
  },
  {
   "cell_type": "code",
   "execution_count": 1,
   "metadata": {},
   "outputs": [
    {
     "name": "stdout",
     "output_type": "stream",
     "text": [
      "***** \n",
      "***** \n",
      "***** \n",
      "***** \n"
     ]
    }
   ],
   "source": [
    "def rect(i ,j): #i is the number of rows and j is the number of coloumns \n",
    " for a in range(i):\n",
    "    for b in range(j):\n",
    "        print(end=\"*\"),\n",
    "    print(\" \")\n",
    "rect(4,5)"
   ]
  },
  {
   "cell_type": "markdown",
   "metadata": {},
   "source": [
    "2.Write a function called add_excitement that takes a list of strings and adds an exclamation point ( ! ) to the end of each string in the list. The program should modify the original list and not return anything."
   ]
  },
  {
   "cell_type": "code",
   "execution_count": 1,
   "metadata": {},
   "outputs": [
    {
     "name": "stdout",
     "output_type": "stream",
     "text": [
      "How many lines do you want?3\n",
      "Enter your text:hi\n",
      "Enter your text:redwan\n",
      "Enter your text:pranto\n",
      "['hi!', 'redwan!', 'pranto!']\n"
     ]
    }
   ],
   "source": [
    "def Add_Excitment(my_list):\n",
    "    i=0\n",
    "    while i<len(my_list):\n",
    "        my_list[i]=my_list[i]+'!'\n",
    "        i=i+1\n",
    "a=input('How many lines do you want?')\n",
    "a=int(a)\n",
    "ok_list=['s'] * a\n",
    "j=0\n",
    "while j<len(ok_list):\n",
    "    ok_list[j]=input('Enter your text:')\n",
    "    j=j+1\n",
    "Add_Excitment(ok_list)\n",
    "print(ok_list)"
   ]
  },
  {
   "cell_type": "markdown",
   "metadata": {},
   "source": [
    "3.Write the same function except that it should not modify the original list and should instead return a new list."
   ]
  },
  {
   "cell_type": "code",
   "execution_count": 1,
   "metadata": {},
   "outputs": [
    {
     "name": "stdout",
     "output_type": "stream",
     "text": [
      "How many lines do you want?3\n",
      "Enter your text:hi\n",
      "Enter your text:i'm redwan\n",
      "Enter your text:i'm fine\n",
      "Before Calling The Function\n",
      "Input List : ['hi', \"i'm redwan\", \"i'm fine\"]\n",
      "After Calling The Function\n",
      "Input List:  ['hi', \"i'm redwan\", \"i'm fine\"]\n",
      "New List:  ['hi!', \"i'm redwan!\", \"i'm fine!\"]\n"
     ]
    }
   ],
   "source": [
    "def Add_Excitment(my_list):\n",
    "    new_list=[]\n",
    "    j=0\n",
    "    while j<len(my_list):\n",
    "        new_list.insert(j,my_list[j]+'!')\n",
    "        j=j+1\n",
    "    return new_list\n",
    "a=input('How many lines do you want?')\n",
    "a=int(a)\n",
    "ok_list=['s'] * a\n",
    "i=0\n",
    "while i<len(ok_list):\n",
    "    ok_list[i]=input('Enter your text:')\n",
    "    i=i+1\n",
    "print('Before Calling The Function\\nInput List :',ok_list)\n",
    "res_list=Add_Excitment(ok_list)\n",
    "print('After Calling The Function\\nInput List: ',ok_list)\n",
    "print('New List: ',res_list)"
   ]
  },
  {
   "cell_type": "markdown",
   "metadata": {},
   "source": [
    "4.The digital root of a number n is obtained as follows: Add up the digits n to get a new number. Add up the digits of that to get another new number. Keep doing this until you get a number that has only one digit. That number is the digital root. For example, if n = 45893 , we add up the digits to get 4 + 5 + 8 + 9 + 3 = 29 . We then add up the digits of 29 to get 2 + 9 = 11 . We then add up the digits of 11 to get 1 + 1 = 2 . Since 2 has only one digit, 2 is our digital root. Write a function that returns the digital root of an integer n ."
   ]
  },
  {
   "cell_type": "code",
   "execution_count": 3,
   "metadata": {},
   "outputs": [
    {
     "name": "stdout",
     "output_type": "stream",
     "text": [
      "Enter Number658\n",
      "Digital Root of 658 is 1\n"
     ]
    }
   ],
   "source": [
    "def Sum(n):\n",
    "    sum=0\n",
    "    for i in n:\n",
    "        sum=sum+int(i)\n",
    "    return sum\n",
    "def Digital_Root(num):\n",
    "    x=Sum(num)\n",
    "    while x>9:\n",
    "        y=str(x)\n",
    "        x=Sum(y)\n",
    "    return x\n",
    "m=input('Enter Number')\n",
    "a=Digital_Root(m)\n",
    "print('Digital Root of',m,'is',a)"
   ]
  },
  {
   "cell_type": "markdown",
   "metadata": {},
   "source": [
    "5.Write a function that takes an integer n and returns a random integer with exactly n digits. For instance, if n is 3, then 125 and 593 would be valid return values, but 093 would not because that is really 93, which is a two-digit number."
   ]
  },
  {
   "cell_type": "code",
   "execution_count": 4,
   "metadata": {},
   "outputs": [
    {
     "name": "stdout",
     "output_type": "stream",
     "text": [
      "Enter A Number: 3\n",
      "The Random Value of 3 digit is : 543\n"
     ]
    }
   ],
   "source": [
    "def Random_Value(num):\n",
    "    x=int(num)   \n",
    "    i=1\n",
    "    low='1'\n",
    "    while i<x:\n",
    "        low=low+'0'\n",
    "        i=i+1\n",
    "        \n",
    "    high=low+'0'\n",
    "    low=int(low)\n",
    "    high=int(high)-1\n",
    "    \n",
    "    import random\n",
    "    z=random.randint(low,high)\n",
    "    return z\n",
    "\n",
    "a=input('Enter A Number: ')\n",
    "s=Random_Value(a)\n",
    "print('The Random Value of',a,'digit is :',s)"
   ]
  },
  {
   "cell_type": "markdown",
   "metadata": {},
   "source": [
    "6. Write a function called matches that takes two strings as arguments and returns how many matches there are between the strings. A match is where the two strings have the same character at the same index. For instance, ' python ' and ' path ' match in the first, third, and fourth characters, so the function should return 3."
   ]
  },
  {
   "cell_type": "code",
   "execution_count": 6,
   "metadata": {},
   "outputs": [
    {
     "name": "stdout",
     "output_type": "stream",
     "text": [
      "Enter any word:python\n",
      "Enter another word:path\n",
      "the words have 3 matches\n"
     ]
    }
   ],
   "source": [
    "def matches(string_1,string_2):\n",
    "    n_1=len(string_1)\n",
    "    n_2=len(string_2)\n",
    "    res=0\n",
    "    i=0\n",
    "    if(n_1<n_2):\n",
    "        while(i<n_1):\n",
    "            if(string_1[i]==string_2[i]):\n",
    "                res=res+1\n",
    "            i=i+1\n",
    "    else:\n",
    "        while(i<n_2):\n",
    "            if(string_1[i]==string_2[i]):\n",
    "                res=res+1\n",
    "            i=i+1\n",
    "    return res\n",
    "a=input(\"Enter any word:\")\n",
    "b=input('Enter another word:')\n",
    "z=matches(a,b)\n",
    "print('the words have',z,'matches')"
   ]
  },
  {
   "cell_type": "markdown",
   "metadata": {},
   "source": [
    "7.Write a function called primes that is given a number n and returns a list of the first n primes. Let the default value of n be 100."
   ]
  },
  {
   "cell_type": "code",
   "execution_count": 7,
   "metadata": {},
   "outputs": [
    {
     "name": "stdout",
     "output_type": "stream",
     "text": [
      "Enetr a Number:100\n",
      "Prime Numbers upto 100 \n",
      " [2, 3, 5, 7, 11, 13, 17, 19, 23, 29, 31, 37, 41, 43, 47, 53, 59, 61, 67, 71, 73, 79, 83, 89, 97]\n"
     ]
    }
   ],
   "source": [
    "def Prime(n):\n",
    "    list_index=0\n",
    "    my_list=[]\n",
    "    i=2\n",
    "    while i<=n:\n",
    "        is_prime=True\n",
    "        j=2\n",
    "        while is_prime==True and j<i:\n",
    "            if i%j==0:\n",
    "                is_prime=False\n",
    "            j=j+1\n",
    "        if is_prime==True:\n",
    "            my_list.insert(list_index,i)\n",
    "            list_index=list_index+1\n",
    "        i=i+1\n",
    "    return my_list\n",
    "a=int(input('Enetr a Number:'))\n",
    "prime_list=Prime(a)\n",
    "print('Prime Numbers upto',a,'\\n',prime_list)"
   ]
  },
  {
   "cell_type": "markdown",
   "metadata": {},
   "source": [
    "8. Recall that if s is a string, then s.find( ' a ' ) will find the location of the first a in s . The problem is that it does not find the location of every a. Write a function called findall that given a string and a single character, returns a list containing all of the locations of that character in the string. It should return an empty list if there are no occurrences of the character in the string."
   ]
  },
  {
   "cell_type": "code",
   "execution_count": 8,
   "metadata": {},
   "outputs": [
    {
     "name": "stdout",
     "output_type": "stream",
     "text": [
      "Enter a String: abracazebra\n",
      "Enter a Character: a\n",
      "The position's of character a in the string\n",
      " [0, 3, 5, 10]\n"
     ]
    }
   ],
   "source": [
    "def Find_All(string,character):\n",
    "    my_list=[]\n",
    "    list_index=0\n",
    "    j=0\n",
    "    for c in string:\n",
    "        if c==character:\n",
    "            my_list.insert(list_index,j)\n",
    "            list_index=list_index+1\n",
    "        j=j+1\n",
    "    return my_list\n",
    "my_string=input('Enter a String: ')\n",
    "my_character=input('Enter a Character: ')\n",
    "res_list=Find_All(my_string,my_character)\n",
    "print(\"The position's of character\",my_character,'in the string\\n',res_list)"
   ]
  },
  {
   "cell_type": "code",
   "execution_count": null,
   "metadata": {},
   "outputs": [],
   "source": []
  }
 ],
 "metadata": {
  "kernelspec": {
   "display_name": "Python 3",
   "language": "python",
   "name": "python3"
  },
  "language_info": {
   "codemirror_mode": {
    "name": "ipython",
    "version": 3
   },
   "file_extension": ".py",
   "mimetype": "text/x-python",
   "name": "python",
   "nbconvert_exporter": "python",
   "pygments_lexer": "ipython3",
   "version": "3.7.0"
  }
 },
 "nbformat": 4,
 "nbformat_minor": 2
}
